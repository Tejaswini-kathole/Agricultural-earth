{
 "cells": [
  {
   "cell_type": "code",
   "execution_count": 1,
   "id": "37199dcc",
   "metadata": {},
   "outputs": [],
   "source": [
    "#for data manipulations\n",
    "import numpy as np\n",
    "import pandas as pd\n",
    "\n",
    "#for data visualizations\n",
    "import matplotlib.pyplot as plt\n",
    "import seaborn as sns\n",
    "\n",
    "#for interactive analysis\n",
    "from ipywidgets import interact"
   ]
  },
  {
   "cell_type": "code",
   "execution_count": 9,
   "id": "d57e86f2",
   "metadata": {},
   "outputs": [],
   "source": [
    "#Reading the dataset\n",
    "data = pd.read_csv('data Agricultural.csv')"
   ]
  },
  {
   "cell_type": "code",
   "execution_count": 10,
   "id": "af8296b4",
   "metadata": {},
   "outputs": [
    {
     "name": "stdout",
     "output_type": "stream",
     "text": [
      "Shape of the dataset : (2200, 8)\n"
     ]
    }
   ],
   "source": [
    "#Shape of the dataset\n",
    "print(\"Shape of the dataset :\", data.shape)"
   ]
  },
  {
   "cell_type": "code",
   "execution_count": 11,
   "id": "7e362140",
   "metadata": {},
   "outputs": [
    {
     "data": {
      "text/html": [
       "<div>\n",
       "<style scoped>\n",
       "    .dataframe tbody tr th:only-of-type {\n",
       "        vertical-align: middle;\n",
       "    }\n",
       "\n",
       "    .dataframe tbody tr th {\n",
       "        vertical-align: top;\n",
       "    }\n",
       "\n",
       "    .dataframe thead th {\n",
       "        text-align: right;\n",
       "    }\n",
       "</style>\n",
       "<table border=\"1\" class=\"dataframe\">\n",
       "  <thead>\n",
       "    <tr style=\"text-align: right;\">\n",
       "      <th></th>\n",
       "      <th>N</th>\n",
       "      <th>P</th>\n",
       "      <th>K</th>\n",
       "      <th>temperature</th>\n",
       "      <th>humidity</th>\n",
       "      <th>ph</th>\n",
       "      <th>rainfall</th>\n",
       "      <th>label</th>\n",
       "    </tr>\n",
       "  </thead>\n",
       "  <tbody>\n",
       "    <tr>\n",
       "      <th>0</th>\n",
       "      <td>90</td>\n",
       "      <td>42</td>\n",
       "      <td>43</td>\n",
       "      <td>20.879744</td>\n",
       "      <td>82.002744</td>\n",
       "      <td>6.502985</td>\n",
       "      <td>202.935536</td>\n",
       "      <td>rice</td>\n",
       "    </tr>\n",
       "    <tr>\n",
       "      <th>1</th>\n",
       "      <td>85</td>\n",
       "      <td>58</td>\n",
       "      <td>41</td>\n",
       "      <td>21.770462</td>\n",
       "      <td>80.319644</td>\n",
       "      <td>7.038096</td>\n",
       "      <td>226.655537</td>\n",
       "      <td>rice</td>\n",
       "    </tr>\n",
       "    <tr>\n",
       "      <th>2</th>\n",
       "      <td>60</td>\n",
       "      <td>55</td>\n",
       "      <td>44</td>\n",
       "      <td>23.004459</td>\n",
       "      <td>82.320763</td>\n",
       "      <td>7.840207</td>\n",
       "      <td>263.964248</td>\n",
       "      <td>rice</td>\n",
       "    </tr>\n",
       "    <tr>\n",
       "      <th>3</th>\n",
       "      <td>74</td>\n",
       "      <td>35</td>\n",
       "      <td>40</td>\n",
       "      <td>26.491096</td>\n",
       "      <td>80.158363</td>\n",
       "      <td>6.980401</td>\n",
       "      <td>242.864034</td>\n",
       "      <td>rice</td>\n",
       "    </tr>\n",
       "    <tr>\n",
       "      <th>4</th>\n",
       "      <td>78</td>\n",
       "      <td>42</td>\n",
       "      <td>42</td>\n",
       "      <td>20.130175</td>\n",
       "      <td>81.604873</td>\n",
       "      <td>7.628473</td>\n",
       "      <td>262.717340</td>\n",
       "      <td>rice</td>\n",
       "    </tr>\n",
       "  </tbody>\n",
       "</table>\n",
       "</div>"
      ],
      "text/plain": [
       "    N   P   K  temperature   humidity        ph    rainfall label\n",
       "0  90  42  43    20.879744  82.002744  6.502985  202.935536  rice\n",
       "1  85  58  41    21.770462  80.319644  7.038096  226.655537  rice\n",
       "2  60  55  44    23.004459  82.320763  7.840207  263.964248  rice\n",
       "3  74  35  40    26.491096  80.158363  6.980401  242.864034  rice\n",
       "4  78  42  42    20.130175  81.604873  7.628473  262.717340  rice"
      ]
     },
     "execution_count": 11,
     "metadata": {},
     "output_type": "execute_result"
    }
   ],
   "source": [
    "#Checking the head of the dataset\n",
    "data.head()"
   ]
  },
  {
   "cell_type": "code",
   "execution_count": 12,
   "id": "9a9d1ea3",
   "metadata": {},
   "outputs": [
    {
     "data": {
      "text/plain": [
       "N              0\n",
       "P              0\n",
       "K              0\n",
       "temperature    0\n",
       "humidity       0\n",
       "ph             0\n",
       "rainfall       0\n",
       "label          0\n",
       "dtype: int64"
      ]
     },
     "execution_count": 12,
     "metadata": {},
     "output_type": "execute_result"
    }
   ],
   "source": [
    "#Checking the missing values\n",
    "data.isnull().sum()"
   ]
  },
  {
   "cell_type": "code",
   "execution_count": 13,
   "id": "213e90fa",
   "metadata": {},
   "outputs": [
    {
     "data": {
      "text/plain": [
       "grapes         100\n",
       "pomegranate    100\n",
       "muskmelon      100\n",
       "cotton         100\n",
       "lentil         100\n",
       "pigeonpeas     100\n",
       "mungbean       100\n",
       "apple          100\n",
       "banana         100\n",
       "rice           100\n",
       "mango          100\n",
       "orange         100\n",
       "watermelon     100\n",
       "coconut        100\n",
       "maize          100\n",
       "chickpea       100\n",
       "kidneybeans    100\n",
       "mothbeans      100\n",
       "blackgram      100\n",
       "coffee         100\n",
       "papaya         100\n",
       "jute           100\n",
       "Name: label, dtype: int64"
      ]
     },
     "execution_count": 13,
     "metadata": {},
     "output_type": "execute_result"
    }
   ],
   "source": [
    "#Checking the crops present\n",
    "data['label'].value_counts()"
   ]
  },
  {
   "cell_type": "code",
   "execution_count": 14,
   "id": "943a52b1",
   "metadata": {},
   "outputs": [
    {
     "name": "stdout",
     "output_type": "stream",
     "text": [
      " Average Ratio of Nitrogen in the Soil : 50.55\n",
      " Average Ratio of Phosphorous in the Soil : 53.36\n",
      " Average Ratio of Potassium in the Soil : 48.15\n",
      " Average Temperature in Celsius : 25.62\n",
      " Average Relative Humidity in % : 71.48\n",
      " Average PH Value of the Soil : 6.47\n",
      " Average Rainfall in mm : 103.46\n"
     ]
    }
   ],
   "source": [
    "#lets check the summary for all crops\n",
    "\n",
    "print(\" Average Ratio of Nitrogen in the Soil : {0:.2f}\".format(data['N'].mean()))\n",
    "print(\" Average Ratio of Phosphorous in the Soil : {0:.2f}\".format(data['P'].mean()))\n",
    "print(\" Average Ratio of Potassium in the Soil : {0:.2f}\".format(data['K'].mean()))\n",
    "print(\" Average Temperature in Celsius : {0:.2f}\".format(data['temperature'].mean()))\n",
    "print(\" Average Relative Humidity in % : {0:.2f}\".format(data['humidity'].mean()))\n",
    "print(\" Average PH Value of the Soil : {0:.2f}\".format(data['ph'].mean()))\n",
    "print(\" Average Rainfall in mm : {0:.2f}\".format(data['rainfall'].mean()))"
   ]
  },
  {
   "cell_type": "code",
   "execution_count": 15,
   "id": "bc99ce21",
   "metadata": {},
   "outputs": [
    {
     "data": {
      "application/vnd.jupyter.widget-view+json": {
       "model_id": "14b14acd65914c119a3823851eec7915",
       "version_major": 2,
       "version_minor": 0
      },
      "text/plain": [
       "interactive(children=(Dropdown(description='crops', options=('grapes', 'pomegranate', 'muskmelon', 'cotton', '…"
      ]
     },
     "metadata": {},
     "output_type": "display_data"
    }
   ],
   "source": [
    "#Checking the detailed statistics for each crop\n",
    "\n",
    "@interact\n",
    "def summary(crops = list(data['label'].value_counts().index)):\n",
    "    x = data[data['label'] == crops]\n",
    "    print(\"...........................................\")\n",
    "    print(\"Statistics for Nitrogen\")\n",
    "    print(\"Minimum Nitrogen required:\", x['N'].min())\n",
    "    print(\"Average Nitrogen required:\", x['N'].mean())\n",
    "    print(\"Maximum Nitrogen required:\", x['N'].max())\n",
    "    print(\"...........................................\")\n",
    "    print(\"Statistics for Phosphorous\")\n",
    "    print(\"Minimum Phosphorous required:\", x['P'].min())\n",
    "    print(\"Average Phosphorous required:\", x['P'].mean())\n",
    "    print(\"Maximum Phosphorous required:\", x['P'].max())\n",
    "    print(\"...........................................\")\n",
    "    print(\"Statistics for Pottasium\")\n",
    "    print(\"Minimum Pottasium required:\", x['K'].min())\n",
    "    print(\"Average Pottasium required:\", x['K'].mean())\n",
    "    print(\"Maximum Pottasium required:\", x['K'].max())\n",
    "    print(\"...........................................\")\n",
    "    print(\"Statistics for Temperature\")\n",
    "    print(\"Minimum Temperature required: {0:.2f}\".format(x['temperature'].min()))\n",
    "    print(\"Average Temperature required: {0:.2f}\".format(x['temperature'].mean()))\n",
    "    print(\"Maximum Temperature required: {0:.2f}\".format(x['temperature'].max()))\n",
    "    print(\"...........................................\")\n",
    "    print(\"Statistics for Humidity\")\n",
    "    print(\"Minimum Humidity required: {0:.2f}\".format(x['humidity'].min()))\n",
    "    print(\"Average Humidity required: {0:.2f}\".format(x['humidity'].mean()))\n",
    "    print(\"Maximum Humidity required: {0:.2f}\".format(x['humidity'].max()))\n",
    "    print(\"...........................................\")\n",
    "    print(\"Statistics for PH\")\n",
    "    print(\"Minimum PH required: {0:.2f}\".format(x['ph'].min()))\n",
    "    print(\"Average PH required: {0:.2f}\".format(x['ph'].mean()))\n",
    "    print(\"Maximum PH required: {0:.2f}\".format(x['ph'].max()))\n",
    "    print(\"...........................................\")\n",
    "    print(\"Statistics for Rainfall\")\n",
    "    print(\"Minimum Rainfall required: {0:.2f}\".format(x['rainfall'].min()))\n",
    "    print(\"Average Rainfall required: {0:.2f}\".format(x['rainfall'].mean()))\n",
    "    print(\"Maximum Rainfall required: {0:.2f}\".format(x['rainfall'].max()))"
   ]
  },
  {
   "cell_type": "code",
   "execution_count": 16,
   "id": "416de026",
   "metadata": {},
   "outputs": [
    {
     "data": {
      "application/vnd.jupyter.widget-view+json": {
       "model_id": "53be2af809b2486189ee3e2a0785720c",
       "version_major": 2,
       "version_minor": 0
      },
      "text/plain": [
       "interactive(children=(Dropdown(description='conditions', options=('N', 'P', 'K', 'temperature', 'ph', 'humidit…"
      ]
     },
     "metadata": {},
     "output_type": "display_data"
    }
   ],
   "source": [
    "#Comparing Average requirement and conditions for each crop\n",
    "\n",
    "@interact\n",
    "def compare(conditions = ['N', 'P', 'K', 'temperature', 'ph', 'humidity', 'rainfall']):\n",
    "    print(\"Average Value for\", conditions, \"is {0:.2f}\".format(data[conditions].mean()))\n",
    "    print(\"...........................................\")\n",
    "    print(\"Rice : {0:.2f}\".format(data[(data['label'] == 'rice')][conditions].mean()))\n",
    "    print(\"Black grams : {0:.2f}\".format(data[(data['label'] == 'blackgram')][conditions].mean()))\n",
    "    print(\"Banana : {0:.2f}\".format(data[(data['label'] == 'banana')][conditions].mean()))\n",
    "    print(\"Jute : {0:.2f}\".format(data[(data['label'] == 'jute')][conditions].mean()))\n",
    "    print(\"Coconut : {0:.2f}\".format(data[(data['label'] == 'coconut')][conditions].mean()))\n",
    "    print(\"Apple : {0:.2f}\".format(data[(data['label'] == 'apple')][conditions].mean()))\n",
    "    print(\"Papaya : {0:.2f}\".format(data[(data['label'] == 'papaya')][conditions].mean()))\n",
    "    print(\"Muskmelon : {0:.2f}\".format(data[(data['label'] == 'muskmelon')][conditions].mean()))\n",
    "    print(\"Grapes : {0:.2f}\".format(data[(data['label'] == 'grapes')][conditions].mean()))\n",
    "    print(\"Watermelon : {0:.2f}\".format(data[(data['label'] == 'watermelon')][conditions].mean()))\n",
    "    print(\"Kidney Beans : {0:.2f}\".format(data[(data['label'] == 'kidneybeans')][conditions].mean()))\n",
    "    print(\"Mung Beans : {0:.2f}\".format(data[(data['label'] == 'mungbean')][conditions].mean()))\n",
    "    print(\"Oranges : {0:.2f}\".format(data[(data['label'] == 'orange')][conditions].mean()))\n",
    "    print(\"Chick Peas : {0:.2f}\".format(data[(data['label'] == 'chickpea')][conditions].mean()))\n",
    "    print(\"Lentils : {0:.2f}\".format(data[(data['label'] == 'lentil')][conditions].mean()))\n",
    "    print(\"Cotton : {0:.2f}\".format(data[(data['label'] == 'cotton')][conditions].mean()))\n",
    "    print(\"Maize : {0:.2f}\".format(data[(data['label'] == 'maize')][conditions].mean()))\n",
    "    print(\"Moth Beans : {0:.2f}\".format(data[(data['label'] == 'mothbeans')][conditions].mean()))\n",
    "    print(\"Pigeon Peas : {0:.2f}\".format(data[(data['label'] == 'pigeonpeas')][conditions].mean()))\n",
    "    print(\"Mango : {0:.2f}\".format(data[(data['label'] == 'mango')][conditions].mean()))\n",
    "    print(\"Pomegranate : {0:.2f}\".format(data[(data['label'] == 'pomegranate')][conditions].mean()))\n",
    "    print(\"Coffee : {0:.2f}\".format(data[(data['label'] == 'coffee')][conditions].mean()))"
   ]
  },
  {
   "cell_type": "code",
   "execution_count": 17,
   "id": "500545f7",
   "metadata": {},
   "outputs": [
    {
     "data": {
      "application/vnd.jupyter.widget-view+json": {
       "model_id": "2580616961b0463da79e03069cd88a5f",
       "version_major": 2,
       "version_minor": 0
      },
      "text/plain": [
       "interactive(children=(Dropdown(description='conditions', options=('N', 'P', 'K', 'temperature', 'ph', 'humidit…"
      ]
     },
     "metadata": {},
     "output_type": "display_data"
    }
   ],
   "source": [
    "#Checking the below and above Average Conditions\n",
    "\n",
    "@interact\n",
    "def compare(conditions = ['N', 'P', 'K', 'temperature', 'ph', 'humidity', 'rainfall']):\n",
    "    print(\"Crops that require greater than average\", conditions, '\\n')\n",
    "    print(data[data[conditions] > data[conditions].mean()]['label'].unique())\n",
    "    print(\"...........................................\")\n",
    "    print(\"Crops that require less than average\", conditions, '\\n')\n",
    "    print(data[data[conditions] <= data[conditions].mean()]['label'].unique())"
   ]
  },
  {
   "cell_type": "code",
   "execution_count": 18,
   "id": "b53d416e",
   "metadata": {},
   "outputs": [
    {
     "data": {
      "image/png": "[encoded data removed]",
      "text/plain": [
       "<Figure size 432x288 with 1 Axes>"
      ]
     },
     "metadata": {
      "needs_background": "light"
     },
     "output_type": "display_data"
    }
   ],
   "source": [
    "#Checking distributiion for each crop\n",
    "\n",
    "plt.subplot(3,4,1)\n",
    "sns.histplot(data['N'], color=\"yellow\")\n",
    "plt.xlabel('Nitrogen', fontsize = 12)\n",
    "plt.grid()\n",
    "plt.suptitle('Distribution for Agricultural Conditions', fontsize = 20)\n",
    "plt.show()"
   ]
  },
  {
   "cell_type": "code",
   "execution_count": 19,
   "id": "e3c085b8",
   "metadata": {},
   "outputs": [
    {
     "data": {
      "image/png": "[encoded data removed]",
      "text/plain": [
       "<Figure size 432x288 with 1 Axes>"
      ]
     },
     "metadata": {
      "needs_background": "light"
     },
     "output_type": "display_data"
    }
   ],
   "source": [
    "plt.subplot(3,4,2)\n",
    "sns.histplot(data['P'], color=\"orange\")\n",
    "plt.xlabel('Phosphorous', fontsize = 12)\n",
    "plt.grid()\n",
    "plt.suptitle('Distribution for Agricultural Conditions', fontsize = 20)\n",
    "plt.show()"
   ]
  },
  {
   "cell_type": "code",
   "execution_count": 20,
   "id": "7b6e6da4",
   "metadata": {},
   "outputs": [
    {
     "data": {
      "image/png": "[encoded data removed]",
      "text/plain": [
       "<Figure size 432x288 with 1 Axes>"
      ]
     },
     "metadata": {
      "needs_background": "light"
     },
     "output_type": "display_data"
    }
   ],
   "source": [
    "plt.subplot(3,4,3)\n",
    "sns.histplot(data['K'], color=\"darkblue\")\n",
    "plt.xlabel('Pottasium', fontsize = 12)\n",
    "plt.grid()\n",
    "plt.suptitle('Distribution for Agricultural Conditions', fontsize = 20)\n",
    "plt.show()"
   ]
  },
  {
   "cell_type": "code",
   "execution_count": 21,
   "id": "2d14cd25",
   "metadata": {},
   "outputs": [
    {
     "data": {
      "image/png": "[encoded data removed]",
      "text/plain": [
       "<Figure size 432x288 with 4 Axes>"
      ]
     },
     "metadata": {
      "needs_background": "light"
     },
     "output_type": "display_data"
    }
   ],
   "source": [
    "#Respectively we are checking distributiion for each crop\n",
    "plt.subplot(3,4,4)\n",
    "sns.histplot(data['temperature'], color=\"black\")\n",
    "plt.xlabel('Temperature', fontsize = 12)\n",
    "plt.grid()\n",
    "\n",
    "plt.subplot(2,4,5)\n",
    "sns.histplot(data['rainfall'], color=\"grey\")\n",
    "plt.xlabel('Rainfall', fontsize = 12)\n",
    "plt.grid()\n",
    "\n",
    "plt.subplot(2,4,6)\n",
    "sns.histplot(data['humidity'], color=\"lightgreen\")\n",
    "plt.xlabel('Humidity', fontsize = 12)\n",
    "plt.grid()\n",
    "\n",
    "plt.subplot(2,4,7)\n",
    "sns.histplot(data['ph'], color=\"darkgreen\")\n",
    "plt.xlabel('PH Level', fontsize = 12)\n",
    "plt.grid()\n",
    "\n",
    "plt.suptitle('Distribution for Agricultural Conditions', fontsize = 20)\n",
    "plt.show()\n"
   ]
  },
  {
   "cell_type": "code",
   "execution_count": 22,
   "id": "be924283",
   "metadata": {},
   "outputs": [
    {
     "name": "stdout",
     "output_type": "stream",
     "text": [
      "Some Interesting Patterns\n",
      "...........................................\n",
      "Crops that require very High Ratio of Nitrogen Content in Soil: ['cotton']\n",
      "Crops that require very High Ratio of Phosphorous Content in Soil: ['grapes' 'apple']\n",
      "Crops that require very High Ratio of Potassium Content in Soil: ['grapes' 'apple']\n",
      "Crops that require very High Rainfall: ['rice' 'papaya' 'coconut']\n",
      "Crops that require very Low Temperature: ['grapes']\n",
      "Crops that require very High Temperature: ['grapes' 'papaya']\n",
      "Crops that require very Low Humidity: ['chickpea' 'kidneybeans']\n",
      "Crops that require very Low pH: ['mothbeans']\n",
      "Crops that require very High pH: ['mothbeans']\n"
     ]
    }
   ],
   "source": [
    "#Checking that crops those have unusual requirements\n",
    "\n",
    "print(\"Some Interesting Patterns\")\n",
    "print(\"...........................................\")\n",
    "print(\"Crops that require very High Ratio of Nitrogen Content in Soil:\", data[data['N'] > 120]['label'].unique())\n",
    "print(\"Crops that require very High Ratio of Phosphorous Content in Soil:\", data[data['P'] > 100]['label'].unique())\n",
    "print(\"Crops that require very High Ratio of Potassium Content in Soil:\", data[data['K'] > 200]['label'].unique())\n",
    "print(\"Crops that require very High Rainfall:\", data[data['rainfall'] > 200]['label'].unique())\n",
    "print(\"Crops that require very Low Temperature:\", data[data['temperature'] < 10]['label'].unique())\n",
    "print(\"Crops that require very High Temperature:\", data[data['temperature'] > 40]['label'].unique())\n",
    "print(\"Crops that require very Low Humidity:\", data[data['humidity'] < 20]['label'].unique())\n",
    "print(\"Crops that require very Low pH:\", data[data['ph'] < 4]['label'].unique())\n",
    "print(\"Crops that require very High pH:\", data[data['ph'] > 9]['label'].unique())"
   ]
  },
  {
   "cell_type": "code",
   "execution_count": 23,
   "id": "185e4637",
   "metadata": {},
   "outputs": [],
   "source": [
    "#Checking which crop to be grown according to the season"
   ]
  },
  {
   "cell_type": "code",
   "execution_count": 24,
   "id": "80a8dd61",
   "metadata": {},
   "outputs": [
    {
     "name": "stdout",
     "output_type": "stream",
     "text": [
      "Summer Crops\n",
      "['pigeonpeas' 'mothbeans' 'blackgram' 'mango' 'grapes' 'orange' 'papaya']\n",
      "...........................................\n"
     ]
    }
   ],
   "source": [
    "print(\"Summer Crops\")\n",
    "print(data[(data['temperature'] > 30) & (data['humidity'] > 50)]['label'].unique())\n",
    "print(\"...........................................\")"
   ]
  },
  {
   "cell_type": "code",
   "execution_count": 25,
   "id": "5d19692d",
   "metadata": {},
   "outputs": [
    {
     "name": "stdout",
     "output_type": "stream",
     "text": [
      "Winter Crops\n",
      "['maize' 'pigeonpeas' 'lentil' 'pomegranate' 'grapes' 'orange']\n",
      "...........................................\n"
     ]
    }
   ],
   "source": [
    "print(\"Winter Crops\")\n",
    "print(data[(data['temperature'] < 20) & (data['humidity'] > 30)]['label'].unique())\n",
    "print(\"...........................................\")"
   ]
  },
  {
   "cell_type": "code",
   "execution_count": 26,
   "id": "09e730eb",
   "metadata": {},
   "outputs": [
    {
     "name": "stdout",
     "output_type": "stream",
     "text": [
      "Monsoon Crops\n",
      "['rice' 'papaya' 'coconut']\n"
     ]
    }
   ],
   "source": [
    "print(\"Monsoon Crops\")\n",
    "print(data[(data['rainfall'] > 200) & (data['humidity'] > 30)]['label'].unique())"
   ]
  },
  {
   "cell_type": "code",
   "execution_count": 27,
   "id": "8c10a14f",
   "metadata": {},
   "outputs": [
    {
     "name": "stdout",
     "output_type": "stream",
     "text": [
      "(2200, 7)\n"
     ]
    }
   ],
   "source": [
    "from sklearn.cluster import KMeans\n",
    "\n",
    "#removing the labels column\n",
    "x = data.drop(['label'], axis=1)\n",
    "\n",
    "#selecting all the values of data\n",
    "x = x.values\n",
    "\n",
    "#checking the shape\n",
    "print(x.shape)"
   ]
  },
  {
   "cell_type": "code",
   "execution_count": 28,
   "id": "30479e37",
   "metadata": {},
   "outputs": [
    {
     "data": {
      "text/plain": [
       "<function matplotlib.pyplot.show(close=None, block=None)>"
      ]
     },
     "execution_count": 28,
     "metadata": {},
     "output_type": "execute_result"
    },
    {
     "data": {
      "image/png": "[encoded data removed]",
      "text/plain": [
       "<Figure size 720x288 with 1 Axes>"
      ]
     },
     "metadata": {
      "needs_background": "light"
     },
     "output_type": "display_data"
    }
   ],
   "source": [
    "#Determining the optimum number of clusters within the Dataset\n",
    "\n",
    "plt.rcParams['figure.figsize'] = (10,4)\n",
    "\n",
    "wcss = []\n",
    "for i in range(1,11):\n",
    "    km = KMeans(n_clusters = i, init = 'k-means++', max_iter = 2000, n_init = 10, random_state = 0)\n",
    "    km.fit(x)\n",
    "    wcss.append(km.inertia_)\n",
    "    \n",
    "#Plotting the results\n",
    "\n",
    "plt.plot(range(1,11), wcss)\n",
    "plt.title('Elbow Method', fontsize = 20)\n",
    "plt.xlabel('No of Clusters')\n",
    "plt.ylabel('wcss')\n",
    "plt.show"
   ]
  },
  {
   "cell_type": "code",
   "execution_count": 29,
   "id": "cd0479db",
   "metadata": {},
   "outputs": [
    {
     "name": "stdout",
     "output_type": "stream",
     "text": [
      "Lets Check the results after applying K Means Clustering Analysis \n",
      "\n",
      "Crops in First Cluster: ['grapes' 'apple']\n",
      "...........................................\n",
      "Crops in Second Cluster: ['maize' 'banana' 'watermelon' 'muskmelon' 'papaya' 'cotton' 'coffee']\n",
      "...........................................\n",
      "Crops in Third Cluster: ['rice' 'pigeonpeas' 'papaya' 'coconut' 'jute' 'coffee']\n",
      "...........................................\n",
      "Crops in Fourth Cluster: ['maize' 'chickpea' 'kidneybeans' 'pigeonpeas' 'mothbeans' 'mungbean'\n",
      " 'blackgram' 'lentil' 'pomegranate' 'mango' 'orange' 'papaya' 'coconut']\n"
     ]
    }
   ],
   "source": [
    "#Implementation of K Means algorithm to perform Clustering analysis\n",
    "\n",
    "km = KMeans(n_clusters = 4, init = 'k-means++',  max_iter = 2000, n_init = 10, random_state = 0)\n",
    "y_means = km.fit_predict(x)\n",
    "\n",
    "#Finding the results\n",
    "a = data['label']\n",
    "y_means = pd.DataFrame(y_means)\n",
    "z = pd.concat([y_means, a], axis = 1)\n",
    "z = z.rename(columns = {0: 'cluster'})\n",
    "\n",
    "#Checking the clusters for each crop\n",
    "print(\"Lets Check the results after applying K Means Clustering Analysis \\n\")\n",
    "print(\"Crops in First Cluster:\", z[z['cluster'] == 0]['label'].unique())\n",
    "print(\"...........................................\")\n",
    "print(\"Crops in Second Cluster:\", z[z['cluster'] == 1]['label'].unique())\n",
    "print(\"...........................................\")\n",
    "print(\"Crops in Third Cluster:\", z[z['cluster'] == 2]['label'].unique())\n",
    "print(\"...........................................\")\n",
    "print(\"Crops in Fourth Cluster:\", z[z['cluster'] == 3]['label'].unique())"
   ]
  },
  {
   "cell_type": "code",
   "execution_count": 30,
   "id": "031b527d",
   "metadata": {},
   "outputs": [
    {
     "name": "stdout",
     "output_type": "stream",
     "text": [
      "Shape of x: (2200, 7)\n",
      "Shape of y: (2200,)\n"
     ]
    }
   ],
   "source": [
    "#Splitting the Dataset for predictive modelling\n",
    "\n",
    "y = data['label']\n",
    "x = data.drop(['label'], axis=1)\n",
    "\n",
    "print(\"Shape of x:\", x.shape)\n",
    "print(\"Shape of y:\", y.shape)"
   ]
  },
  {
   "cell_type": "code",
   "execution_count": 31,
   "id": "f58ebb39",
   "metadata": {},
   "outputs": [
    {
     "name": "stdout",
     "output_type": "stream",
     "text": [
      "The Shape Of x train: (1760, 7)\n",
      "The Shape Of x test: (440, 7)\n",
      "The Shape Of y train: (1760,)\n",
      "The Shape Of y test: (440,)\n"
     ]
    }
   ],
   "source": [
    "#Creating training and testing sets for results validation\n",
    "from sklearn.model_selection import train_test_split\n",
    "\n",
    "x_train, x_test, y_train, y_test = train_test_split(x, y, test_size = 0.2, random_state = 0)\n",
    "\n",
    "print(\"The Shape Of x train:\", x_train.shape)\n",
    "print(\"The Shape Of x test:\", x_test.shape)\n",
    "print(\"The Shape Of y train:\", y_train.shape)\n",
    "print(\"The Shape Of y test:\", y_test.shape)"
   ]
  },
  {
   "cell_type": "code",
   "execution_count": 32,
   "id": "4fdcfc0e",
   "metadata": {},
   "outputs": [
    {
     "name": "stderr",
     "output_type": "stream",
     "text": [
      "C:\\Users\\Tejaswini\\.conda\\envs\\deepl2\\lib\\site-packages\\sklearn\\linear_model\\_logistic.py:765: ConvergenceWarning: lbfgs failed to converge (status=1):\n",
      "STOP: TOTAL NO. of ITERATIONS REACHED LIMIT.\n",
      "\n",
      "Increase the number of iterations (max_iter) or scale the data as shown in:\n",
      "    https://scikit-learn.org/stable/modules/preprocessing.html\n",
      "Please also refer to the documentation for alternative solver options:\n",
      "    https://scikit-learn.org/stable/modules/linear_model.html#logistic-regression\n",
      "  extra_warning_msg=_LOGISTIC_SOLVER_CONVERGENCE_MSG)\n"
     ]
    }
   ],
   "source": [
    "#Creating a Predictive Model\n",
    "\n",
    "from sklearn.linear_model import LogisticRegression\n",
    "\n",
    "model = LogisticRegression()\n",
    "model.fit(x_train, y_train)\n",
    "y_pred = model.predict(x_test)"
   ]
  },
  {
   "cell_type": "code",
   "execution_count": 33,
   "id": "a0195b88",
   "metadata": {},
   "outputs": [
    {
     "data": {
      "image/png": "[encoded data removed]",
      "text/plain": [
       "<Figure size 720x720 with 2 Axes>"
      ]
     },
     "metadata": {
      "needs_background": "light"
     },
     "output_type": "display_data"
    }
   ],
   "source": [
    "#Evaluating the model performance\n",
    "from sklearn.metrics import confusion_matrix\n",
    "\n",
    "#Printing the Confusing Matrix\n",
    "plt.rcParams['figure.figsize'] = (10,10)\n",
    "cm = confusion_matrix(y_test, y_pred)\n",
    "sns.heatmap(cm, annot = True, cmap = 'Wistia')\n",
    "plt.title('Confusion Matrix For Logistic Regression', fontsize = 15)\n",
    "plt.show()"
   ]
  },
  {
   "cell_type": "code",
   "execution_count": 34,
   "id": "ecb26cb8",
   "metadata": {},
   "outputs": [
    {
     "name": "stdout",
     "output_type": "stream",
     "text": [
      "              precision    recall  f1-score   support\n",
      "\n",
      "       apple       1.00      1.00      1.00        18\n",
      "      banana       1.00      1.00      1.00        18\n",
      "   blackgram       0.86      0.82      0.84        22\n",
      "    chickpea       1.00      1.00      1.00        23\n",
      "     coconut       1.00      1.00      1.00        15\n",
      "      coffee       1.00      1.00      1.00        17\n",
      "      cotton       0.89      1.00      0.94        16\n",
      "      grapes       1.00      1.00      1.00        18\n",
      "        jute       0.84      1.00      0.91        21\n",
      " kidneybeans       1.00      1.00      1.00        20\n",
      "      lentil       0.94      0.94      0.94        17\n",
      "       maize       0.94      0.89      0.91        18\n",
      "       mango       1.00      1.00      1.00        21\n",
      "   mothbeans       0.88      0.92      0.90        25\n",
      "    mungbean       1.00      1.00      1.00        17\n",
      "   muskmelon       1.00      1.00      1.00        23\n",
      "      orange       1.00      1.00      1.00        23\n",
      "      papaya       1.00      0.95      0.98        21\n",
      "  pigeonpeas       1.00      1.00      1.00        22\n",
      " pomegranate       1.00      1.00      1.00        23\n",
      "        rice       1.00      0.84      0.91        25\n",
      "  watermelon       1.00      1.00      1.00        17\n",
      "\n",
      "    accuracy                           0.97       440\n",
      "   macro avg       0.97      0.97      0.97       440\n",
      "weighted avg       0.97      0.97      0.97       440\n",
      "\n"
     ]
    }
   ],
   "source": [
    "#Defining the classification Report\n",
    "from sklearn.metrics import classification_report\n",
    "\n",
    "#Printing the Classification Report\n",
    "cr = classification_report(y_test, y_pred)\n",
    "print(cr)"
   ]
  },
  {
   "cell_type": "code",
   "execution_count": 35,
   "id": "dc83247d",
   "metadata": {},
   "outputs": [
    {
     "data": {
      "text/html": [
       "<div>\n",
       "<style scoped>\n",
       "    .dataframe tbody tr th:only-of-type {\n",
       "        vertical-align: middle;\n",
       "    }\n",
       "\n",
       "    .dataframe tbody tr th {\n",
       "        vertical-align: top;\n",
       "    }\n",
       "\n",
       "    .dataframe thead th {\n",
       "        text-align: right;\n",
       "    }\n",
       "</style>\n",
       "<table border=\"1\" class=\"dataframe\">\n",
       "  <thead>\n",
       "    <tr style=\"text-align: right;\">\n",
       "      <th></th>\n",
       "      <th>N</th>\n",
       "      <th>P</th>\n",
       "      <th>K</th>\n",
       "      <th>temperature</th>\n",
       "      <th>humidity</th>\n",
       "      <th>ph</th>\n",
       "      <th>rainfall</th>\n",
       "      <th>label</th>\n",
       "    </tr>\n",
       "  </thead>\n",
       "  <tbody>\n",
       "    <tr>\n",
       "      <th>0</th>\n",
       "      <td>90</td>\n",
       "      <td>42</td>\n",
       "      <td>43</td>\n",
       "      <td>20.879744</td>\n",
       "      <td>82.002744</td>\n",
       "      <td>6.502985</td>\n",
       "      <td>202.935536</td>\n",
       "      <td>rice</td>\n",
       "    </tr>\n",
       "    <tr>\n",
       "      <th>1</th>\n",
       "      <td>85</td>\n",
       "      <td>58</td>\n",
       "      <td>41</td>\n",
       "      <td>21.770462</td>\n",
       "      <td>80.319644</td>\n",
       "      <td>7.038096</td>\n",
       "      <td>226.655537</td>\n",
       "      <td>rice</td>\n",
       "    </tr>\n",
       "    <tr>\n",
       "      <th>2</th>\n",
       "      <td>60</td>\n",
       "      <td>55</td>\n",
       "      <td>44</td>\n",
       "      <td>23.004459</td>\n",
       "      <td>82.320763</td>\n",
       "      <td>7.840207</td>\n",
       "      <td>263.964248</td>\n",
       "      <td>rice</td>\n",
       "    </tr>\n",
       "    <tr>\n",
       "      <th>3</th>\n",
       "      <td>74</td>\n",
       "      <td>35</td>\n",
       "      <td>40</td>\n",
       "      <td>26.491096</td>\n",
       "      <td>80.158363</td>\n",
       "      <td>6.980401</td>\n",
       "      <td>242.864034</td>\n",
       "      <td>rice</td>\n",
       "    </tr>\n",
       "    <tr>\n",
       "      <th>4</th>\n",
       "      <td>78</td>\n",
       "      <td>42</td>\n",
       "      <td>42</td>\n",
       "      <td>20.130175</td>\n",
       "      <td>81.604873</td>\n",
       "      <td>7.628473</td>\n",
       "      <td>262.717340</td>\n",
       "      <td>rice</td>\n",
       "    </tr>\n",
       "  </tbody>\n",
       "</table>\n",
       "</div>"
      ],
      "text/plain": [
       "    N   P   K  temperature   humidity        ph    rainfall label\n",
       "0  90  42  43    20.879744  82.002744  6.502985  202.935536  rice\n",
       "1  85  58  41    21.770462  80.319644  7.038096  226.655537  rice\n",
       "2  60  55  44    23.004459  82.320763  7.840207  263.964248  rice\n",
       "3  74  35  40    26.491096  80.158363  6.980401  242.864034  rice\n",
       "4  78  42  42    20.130175  81.604873  7.628473  262.717340  rice"
      ]
     },
     "execution_count": 35,
     "metadata": {},
     "output_type": "execute_result"
    }
   ],
   "source": [
    "#head of dataset\n",
    "data.head()"
   ]
  },
  {
   "cell_type": "code",
   "execution_count": 36,
   "id": "b081be36",
   "metadata": {},
   "outputs": [
    {
     "name": "stdout",
     "output_type": "stream",
     "text": [
      "The Suggested Crop for given climatic condition is : ['rice']\n"
     ]
    }
   ],
   "source": [
    "prediction = model.predict((np.array([[90, 40, 40, 20, 80, 7, 200]])))\n",
    "print(\"The Suggested Crop for given climatic condition is :\",prediction)"
   ]
  },
  {
   "cell_type": "code",
   "execution_count": null,
   "id": "c90899c3",
   "metadata": {},
   "outputs": [],
   "source": []
  }
 ],
 "metadata": {
  "kernelspec": {
   "display_name": "Python 3",
   "language": "python",
   "name": "python3"
  },
  "language_info": {
   "codemirror_mode": {
    "name": "ipython",
    "version": 3
   },
   "file_extension": ".py",
   "mimetype": "text/x-python",
   "name": "python",
   "nbconvert_exporter": "python",
   "pygments_lexer": "ipython3",
   "version": "3.6.13"
  }
 },
 "nbformat": 4,
 "nbformat_minor": 5
}
